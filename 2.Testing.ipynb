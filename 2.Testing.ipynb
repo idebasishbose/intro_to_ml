{
    "cells": [
        {
            "cell_type": "code",
            "execution_count": 3,
            "source": [
                "import pandas as pd\n",
                "from sklearn.tree import DecisionTreeRegressor\n"
            ],
            "outputs": [],
            "metadata": {}
        },
        {
            "cell_type": "code",
            "execution_count": 16,
            "source": [
                "# Path of the file to read\n",
                "from sklearn.metrics import mean_absolute_error\n",
                "iowa_file_path = 'input/home-data-for-ml-course/train.csv'\n",
                "\n",
                "home_data = pd.read_csv(iowa_file_path)\n",
                "y = home_data.SalePrice\n",
                "feature_columns = ['LotArea', 'YearBuilt', '1stFlrSF',  '2ndFlrSF', 'FullBath', 'BedroomAbvGr', 'TotRmsAbvGrd']\n",
                "X = home_data[feature_columns]\n",
                "\n",
                "#Specify model\n",
                "iowa_model = DecisionTreeRegressor()\n",
                "\n",
                "#Fit model\n",
                "iowa_model.fit(X, y)\n",
                "\n",
                "print(\"First in-sample predictions:\",iowa_model.predict(X.head()))\n",
                "print(\"Actual target values for those homes:\", y.head().tolist())\n",
                "\n",
                "\n",
                "val_mae = mean_absolute_error(y, iowa_model.predict(X))\n",
                "\n",
                "print(val_mae)\n"
            ],
            "outputs": [
                {
                    "output_type": "stream",
                    "name": "stdout",
                    "text": [
                        "First in-sample predictions: [208500. 181500. 223500. 140000. 250000.]\n",
                        "Actual target values for those homes: [208500, 181500, 223500, 140000, 250000]\n",
                        "0.0\n"
                    ]
                }
            ],
            "metadata": {}
        },
        {
            "cell_type": "code",
            "execution_count": 11,
            "source": [
                "from sklearn.model_selection import train_test_split\n",
                "\n",
                "#slipt data \n",
                "train_X, val_X, train_y, val_y = train_test_split(X, y, random_state=1)\n",
                "\n",
                "\n",
                "#Specify model\n",
                "iowa_model = DecisionTreeRegressor(random_state=1)\n",
                "\n",
                "#Fit model\n",
                "iowa_model.fit(train_X, train_y)\n",
                "\n",
                "# Predict with all validation observations\n",
                "val_predictions = iowa_model.predict(val_X)\n",
                "\n",
                "# print the top few validation predictions\n",
                "print(iowa_model.predict(val_X.head()))\n",
                "# print the top few actual prices from validation data\n",
                "print(val_y.head().tolist())\n"
            ],
            "outputs": [
                {
                    "output_type": "stream",
                    "name": "stdout",
                    "text": [
                        "[186500. 184000. 130000.  92000. 164500.]\n",
                        "[231500, 179500, 122000, 84500, 142000]\n"
                    ]
                }
            ],
            "metadata": {}
        },
        {
            "cell_type": "code",
            "execution_count": 13,
            "source": [
                "from sklearn.metrics import mean_absolute_error\n",
                "\n",
                "val_mae = mean_absolute_error(val_y, val_predictions)\n",
                "\n",
                "print(val_mae)"
            ],
            "outputs": [
                {
                    "output_type": "stream",
                    "name": "stdout",
                    "text": [
                        "29652.931506849316\n"
                    ]
                }
            ],
            "metadata": {}
        }
    ],
    "metadata": {
        "orig_nbformat": 4,
        "language_info": {
            "name": "python",
            "version": "3.9.6",
            "mimetype": "text/x-python",
            "codemirror_mode": {
                "name": "ipython",
                "version": 3
            },
            "pygments_lexer": "ipython3",
            "nbconvert_exporter": "python",
            "file_extension": ".py"
        },
        "kernelspec": {
            "name": "python3",
            "display_name": "Python 3.9.6 64-bit ('intro_to_ml': conda)"
        },
        "interpreter": {
            "hash": "5958c218c29c63f5034934ab5aa447b284f9237e16dd3339af6bb6b709f0b628"
        }
    },
    "nbformat": 4,
    "nbformat_minor": 2
}