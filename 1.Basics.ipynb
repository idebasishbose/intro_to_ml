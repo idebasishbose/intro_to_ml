{
 "cells": [
  {
   "cell_type": "code",
   "execution_count": 13,
   "source": [
    "import pandas as pd\n",
    "#save filepath to variable for easier access\n",
    "melbourne_file_path = 'input/melb_data.csv'\n",
    "\n",
    "#read the data and store data in DataFrame titled melbourne_data\n",
    "melbourne_data = pd.read_csv(melbourne_file_path)"
   ],
   "outputs": [],
   "metadata": {}
  },
  {
   "cell_type": "code",
   "execution_count": 14,
   "source": [
    "melbourne_data.columns"
   ],
   "outputs": [
    {
     "data": {
      "text/plain": "Index(['Suburb', 'Address', 'Rooms', 'Type', 'Price', 'Method', 'SellerG',\n       'Date', 'Distance', 'Postcode', 'Bedroom2', 'Bathroom', 'Car',\n       'Landsize', 'BuildingArea', 'YearBuilt', 'CouncilArea', 'Lattitude',\n       'Longtitude', 'Regionname', 'Propertycount'],\n      dtype='object')"
     },
     "execution_count": 14,
     "metadata": {},
     "output_type": "execute_result"
    }
   ],
   "metadata": {}
  },
  {
   "cell_type": "code",
   "execution_count": 15,
   "source": [
    "melbourne_data = melbourne_data.dropna(axis=0)"
   ],
   "outputs": [],
   "metadata": {}
  },
  {
   "cell_type": "code",
   "execution_count": 16,
   "source": [
    "y = melbourne_data.Price\n",
    "melbourne_features = ['Rooms', 'Bathroom', 'Landsize', 'BuildingArea','YearBuilt', 'Lattitude', 'Longtitude']\n",
    "X = melbourne_data[melbourne_features]\n",
    "X.describe()\n"
   ],
   "outputs": [
    {
     "data": {
      "text/plain": "             Rooms     Bathroom      Landsize  BuildingArea    YearBuilt  \\\ncount  6196.000000  6196.000000   6196.000000   6196.000000  6196.000000   \nmean      2.931407     1.576340    471.006940    141.568645  1964.081988   \nstd       0.971079     0.711362    897.449881     90.834824    38.105673   \nmin       1.000000     1.000000      0.000000      0.000000  1196.000000   \n25%       2.000000     1.000000    152.000000     91.000000  1940.000000   \n50%       3.000000     1.000000    373.000000    124.000000  1970.000000   \n75%       4.000000     2.000000    628.000000    170.000000  2000.000000   \nmax       8.000000     8.000000  37000.000000   3112.000000  2018.000000   \n\n         Lattitude   Longtitude  \ncount  6196.000000  6196.000000  \nmean    -37.807904   144.990201  \nstd       0.075850     0.099165  \nmin     -38.164920   144.542370  \n25%     -37.855438   144.926198  \n50%     -37.802250   144.995800  \n75%     -37.758200   145.052700  \nmax     -37.457090   145.526350  ",
      "text/html": "<div>\n<style scoped>\n    .dataframe tbody tr th:only-of-type {\n        vertical-align: middle;\n    }\n\n    .dataframe tbody tr th {\n        vertical-align: top;\n    }\n\n    .dataframe thead th {\n        text-align: right;\n    }\n</style>\n<table border=\"1\" class=\"dataframe\">\n  <thead>\n    <tr style=\"text-align: right;\">\n      <th></th>\n      <th>Rooms</th>\n      <th>Bathroom</th>\n      <th>Landsize</th>\n      <th>BuildingArea</th>\n      <th>YearBuilt</th>\n      <th>Lattitude</th>\n      <th>Longtitude</th>\n    </tr>\n  </thead>\n  <tbody>\n    <tr>\n      <th>count</th>\n      <td>6196.000000</td>\n      <td>6196.000000</td>\n      <td>6196.000000</td>\n      <td>6196.000000</td>\n      <td>6196.000000</td>\n      <td>6196.000000</td>\n      <td>6196.000000</td>\n    </tr>\n    <tr>\n      <th>mean</th>\n      <td>2.931407</td>\n      <td>1.576340</td>\n      <td>471.006940</td>\n      <td>141.568645</td>\n      <td>1964.081988</td>\n      <td>-37.807904</td>\n      <td>144.990201</td>\n    </tr>\n    <tr>\n      <th>std</th>\n      <td>0.971079</td>\n      <td>0.711362</td>\n      <td>897.449881</td>\n      <td>90.834824</td>\n      <td>38.105673</td>\n      <td>0.075850</td>\n      <td>0.099165</td>\n    </tr>\n    <tr>\n      <th>min</th>\n      <td>1.000000</td>\n      <td>1.000000</td>\n      <td>0.000000</td>\n      <td>0.000000</td>\n      <td>1196.000000</td>\n      <td>-38.164920</td>\n      <td>144.542370</td>\n    </tr>\n    <tr>\n      <th>25%</th>\n      <td>2.000000</td>\n      <td>1.000000</td>\n      <td>152.000000</td>\n      <td>91.000000</td>\n      <td>1940.000000</td>\n      <td>-37.855438</td>\n      <td>144.926198</td>\n    </tr>\n    <tr>\n      <th>50%</th>\n      <td>3.000000</td>\n      <td>1.000000</td>\n      <td>373.000000</td>\n      <td>124.000000</td>\n      <td>1970.000000</td>\n      <td>-37.802250</td>\n      <td>144.995800</td>\n    </tr>\n    <tr>\n      <th>75%</th>\n      <td>4.000000</td>\n      <td>2.000000</td>\n      <td>628.000000</td>\n      <td>170.000000</td>\n      <td>2000.000000</td>\n      <td>-37.758200</td>\n      <td>145.052700</td>\n    </tr>\n    <tr>\n      <th>max</th>\n      <td>8.000000</td>\n      <td>8.000000</td>\n      <td>37000.000000</td>\n      <td>3112.000000</td>\n      <td>2018.000000</td>\n      <td>-37.457090</td>\n      <td>145.526350</td>\n    </tr>\n  </tbody>\n</table>\n</div>"
     },
     "execution_count": 16,
     "metadata": {},
     "output_type": "execute_result"
    }
   ],
   "metadata": {}
  },
  {
   "cell_type": "code",
   "execution_count": 17,
   "source": [
    "X.head()"
   ],
   "outputs": [
    {
     "data": {
      "text/plain": "   Rooms  Bathroom  Landsize  BuildingArea  YearBuilt  Lattitude  Longtitude\n1      2       1.0     156.0          79.0     1900.0   -37.8079    144.9934\n2      3       2.0     134.0         150.0     1900.0   -37.8093    144.9944\n4      4       1.0     120.0         142.0     2014.0   -37.8072    144.9941\n6      3       2.0     245.0         210.0     1910.0   -37.8024    144.9993\n7      2       1.0     256.0         107.0     1890.0   -37.8060    144.9954",
      "text/html": "<div>\n<style scoped>\n    .dataframe tbody tr th:only-of-type {\n        vertical-align: middle;\n    }\n\n    .dataframe tbody tr th {\n        vertical-align: top;\n    }\n\n    .dataframe thead th {\n        text-align: right;\n    }\n</style>\n<table border=\"1\" class=\"dataframe\">\n  <thead>\n    <tr style=\"text-align: right;\">\n      <th></th>\n      <th>Rooms</th>\n      <th>Bathroom</th>\n      <th>Landsize</th>\n      <th>BuildingArea</th>\n      <th>YearBuilt</th>\n      <th>Lattitude</th>\n      <th>Longtitude</th>\n    </tr>\n  </thead>\n  <tbody>\n    <tr>\n      <th>1</th>\n      <td>2</td>\n      <td>1.0</td>\n      <td>156.0</td>\n      <td>79.0</td>\n      <td>1900.0</td>\n      <td>-37.8079</td>\n      <td>144.9934</td>\n    </tr>\n    <tr>\n      <th>2</th>\n      <td>3</td>\n      <td>2.0</td>\n      <td>134.0</td>\n      <td>150.0</td>\n      <td>1900.0</td>\n      <td>-37.8093</td>\n      <td>144.9944</td>\n    </tr>\n    <tr>\n      <th>4</th>\n      <td>4</td>\n      <td>1.0</td>\n      <td>120.0</td>\n      <td>142.0</td>\n      <td>2014.0</td>\n      <td>-37.8072</td>\n      <td>144.9941</td>\n    </tr>\n    <tr>\n      <th>6</th>\n      <td>3</td>\n      <td>2.0</td>\n      <td>245.0</td>\n      <td>210.0</td>\n      <td>1910.0</td>\n      <td>-37.8024</td>\n      <td>144.9993</td>\n    </tr>\n    <tr>\n      <th>7</th>\n      <td>2</td>\n      <td>1.0</td>\n      <td>256.0</td>\n      <td>107.0</td>\n      <td>1890.0</td>\n      <td>-37.8060</td>\n      <td>144.9954</td>\n    </tr>\n  </tbody>\n</table>\n</div>"
     },
     "execution_count": 17,
     "metadata": {},
     "output_type": "execute_result"
    }
   ],
   "metadata": {}
  },
  {
   "cell_type": "code",
   "execution_count": 18,
   "source": [
    "from sklearn.tree import DecisionTreeRegressor\n",
    "\n",
    "# Define model. Specify a number for random_state to ensure same results each run\n",
    "melbourne_model = DecisionTreeRegressor()\n",
    "\n",
    "# Fit model\n",
    "melbourne_model.fit(X, y)\n"
   ],
   "outputs": [
    {
     "data": {
      "text/plain": "DecisionTreeRegressor()"
     },
     "execution_count": 18,
     "metadata": {},
     "output_type": "execute_result"
    }
   ],
   "metadata": {}
  },
  {
   "cell_type": "code",
   "execution_count": 19,
   "source": [
    "# print('Making predictions for the following 5 houses:')\n",
    "# print(X.head())\n",
    "# print(\"The predictions are\")\n",
    "# print(melbourne_model.predict(X.head()))\n"
   ],
   "outputs": [],
   "metadata": {}
  },
  {
   "cell_type": "code",
   "execution_count": 20,
   "source": [
    "from sklearn.metrics import mean_absolute_error\n",
    "#define model\n",
    "predicted_home_prices = melbourne_model.predict(X)\n",
    "mean_absolute_error(y, predicted_home_prices)\n"
   ],
   "outputs": [
    {
     "data": {
      "text/plain": "434.71594577146544"
     },
     "execution_count": 20,
     "metadata": {},
     "output_type": "execute_result"
    }
   ],
   "metadata": {}
  },
  {
   "cell_type": "markdown",
   "source": [
    "# The Problem with \"In-Sample\" Scores\n",
    "\n",
    "The measure we just computed can be called an \"in-sample\" score. We used a single \"sample\" of houses for both building the model and evaluating it. Here's why this is bad.\n",
    "\n",
    "Imagine that, in the large real estate market, door color is unrelated to home price.\n",
    "\n",
    "However, in the sample of data you used to build the model, all homes with green doors were very expensive. The model's job is to find patterns that predict home prices, so it will see this pattern, and it will always predict high prices for homes with green doors.\n",
    "\n",
    "Since this pattern was derived from the training data, the model will appear accurate in the training data.\n",
    "\n",
    "But if this pattern doesn't hold when the model sees new data, the model would be very inaccurate when used in practice.\n",
    "\n",
    "Since models' practical value come from making predictions on new data, we measure performance on data that wasn't used to build the model. The most straightforward way to do this is to exclude some data from the model-building process, and then use those to test the model's accuracy on data it hasn't seen before. This data is called **validation data**.\n"
   ],
   "metadata": {}
  },
  {
   "cell_type": "code",
   "execution_count": 21,
   "source": [
    "from sklearn.model_selection import train_test_split\n",
    "# split data into training and validation data, for both features and target\n",
    "# The split is based on a random number generator. Supplying a numeric value to\n",
    "# the random_state argument guarantees we get the same split every time we\n",
    "# run this script.\n",
    "train_X, val_X, train_y, val_y = train_test_split(X, y, random_state=0)\n",
    "\n",
    "# Define model \n",
    "melbourne_model = DecisionTreeRegressor()\n",
    "# Fit model\n",
    "melbourne_model.fit(train_X, train_y)\n",
    "# get predicted prices on validation data\n",
    "val_predictions = melbourne_model.predict(val_X)\n",
    "mean_absolute_error(val_y, val_predictions)\n"
   ],
   "outputs": [
    {
     "data": {
      "text/plain": "259873.9761136217"
     },
     "execution_count": 21,
     "metadata": {},
     "output_type": "execute_result"
    }
   ],
   "metadata": {}
  },
  {
   "cell_type": "code",
   "execution_count": 22,
   "source": [
    "#utility function to help compare MAE scores from different values for max_leaf_nodes\n",
    "\n",
    "def get_mae(max_leaf_nodes, train_X, train_y, val_X, val_y):\n",
    "    model = DecisionTreeRegressor(max_leaf_nodes=max_leaf_nodes, random_state=0)\n",
    "    model.fit(train_X, train_y)\n",
    "    preds_val = model.predict(val_X)\n",
    "    return mean_absolute_error(val_y, preds_val)\n"
   ],
   "outputs": [],
   "metadata": {}
  },
  {
   "cell_type": "code",
   "execution_count": 23,
   "source": [
    "# compare MAE with differing values of max_leaf_nodes\n",
    "candidate_max_leaf_nodes = [5, 25, 50, 100, 250, 500]\n",
    "\n",
    "for max_leaf_nodes in candidate_max_leaf_nodes:\n",
    "    my_mae = get_mae(max_leaf_nodes, train_X, train_y, val_X, val_y)\n",
    "    print(\"Max leaf nodes: %d  \\t\\t Mean Absolute Error:  %d\" % (max_leaf_nodes, my_mae))\n",
    "\n",
    "    # print(f\"Max leaf nodes: {max_leaf_nodes} \\t \\t Mean Absolute Error:  {my_mae}\")\n",
    "scores = {max_leaf_nodes: get_mae(\n",
    "    max_leaf_nodes, train_X, train_y, val_X, val_y) for max_leaf_nodes in candidate_max_leaf_nodes}\n",
    "scores\n",
    "\n",
    "# best_tree_size = [key for key in scores if scores[key] == min(scores.values())]\n",
    "best_tree_size1 = min(scores, key=scores.get)\n"
   ],
   "outputs": [
    {
     "name": "stdout",
     "output_type": "stream",
     "text": [
      "Max leaf nodes: 5  \t\t Mean Absolute Error:  347380\n",
      "Max leaf nodes: 25  \t\t Mean Absolute Error:  271044\n",
      "Max leaf nodes: 50  \t\t Mean Absolute Error:  258171\n",
      "Max leaf nodes: 100  \t\t Mean Absolute Error:  248734\n",
      "Max leaf nodes: 250  \t\t Mean Absolute Error:  247206\n",
      "Max leaf nodes: 500  \t\t Mean Absolute Error:  243495\n"
     ]
    }
   ],
   "metadata": {}
  },
  {
   "cell_type": "code",
   "execution_count": 24,
   "source": [
    "from sklearn.ensemble import RandomForestRegressor\n",
    "\n",
    "#define the model , set random_state = 1\n",
    "rf_model = RandomForestRegressor(random_state=1)\n",
    "\n",
    "#fit the model\n",
    "rf_model.fit(train_X, train_y)\n",
    "\n",
    "# predict the model\n",
    "val_predict = rf_model.predict(val_X)\n",
    "\n",
    "# Find the MAE \n",
    "rf_error = mean_absolute_error(val_y, val_predict)\n",
    "print(f'Validation of MAE for randomforest {rf_error:.0f}')\n"
   ],
   "outputs": [
    {
     "name": "stdout",
     "output_type": "stream",
     "text": [
      "Validation of MAE for randomforest 191670\n"
     ]
    }
   ],
   "metadata": {}
  }
 ],
 "metadata": {
  "interpreter": {
   "hash": "5958c218c29c63f5034934ab5aa447b284f9237e16dd3339af6bb6b709f0b628"
  },
  "kernelspec": {
   "name": "intro_to_ml",
   "language": "python",
   "display_name": "intro_to_ml"
  },
  "language_info": {
   "codemirror_mode": {
    "name": "ipython",
    "version": 3
   },
   "file_extension": ".py",
   "mimetype": "text/x-python",
   "name": "python",
   "nbconvert_exporter": "python",
   "pygments_lexer": "ipython3",
   "version": "3.9.6"
  }
 },
 "nbformat": 4,
 "nbformat_minor": 5
}